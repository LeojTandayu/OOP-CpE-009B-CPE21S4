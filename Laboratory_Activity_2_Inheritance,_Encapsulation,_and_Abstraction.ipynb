{
  "nbformat": 4,
  "nbformat_minor": 0,
  "metadata": {
    "colab": {
      "provenance": [],
      "authorship_tag": "ABX9TyM3NjioR3ahgG9oFrG2za/h",
      "include_colab_link": true
    },
    "kernelspec": {
      "name": "python3",
      "display_name": "Python 3"
    },
    "language_info": {
      "name": "python"
    }
  },
  "cells": [
    {
      "cell_type": "markdown",
      "metadata": {
        "id": "view-in-github",
        "colab_type": "text"
      },
      "source": [
        "<a href=\"https://colab.research.google.com/github/LeojTandayu/OOP-CpE-009B-CPE21S4/blob/main/Laboratory_Activity_2_Inheritance%2C_Encapsulation%2C_and_Abstraction.ipynb\" target=\"_parent\"><img src=\"https://colab.research.google.com/assets/colab-badge.svg\" alt=\"Open In Colab\"/></a>"
      ]
    },
    {
      "cell_type": "markdown",
      "source": [
        "# **Supplementary Activity**\n",
        "\n",
        "Create a new file Game.py inside the same folder use the pre-made classes to create a simple Game where two players or  one player vs a computer will be able to reduce their opponent’s hp to 0.  \n",
        "Requirements:  \n",
        "1. The game must be able to select between 2 modes: Single player and Player vs Player. The game can spawn  multiple matches where single player or player vs player can take place.\n",
        "2. In Single player:\n",
        "• the player must start as a Novice, then after 2 wins, the player should be able to select a new role between  Swordsman, Archer, and Magician.\n",
        "• The opponent will always be a boss named Monster.\n",
        "3. In Player vs Player, both players must be able to select among all the possible roles available except Boss.\n",
        "4. Turns of each player for both modes should be randomized and the match should end when one of the players hp is  zero.\n",
        "5. Wins of each player in a game for both the modes should be counted.\n"
      ],
      "metadata": {
        "id": "rEkbfD8w4cHJ"
      }
    },
    {
      "cell_type": "code",
      "execution_count": 1,
      "metadata": {
        "colab": {
          "base_uri": "https://localhost:8080/"
        },
        "id": "JmYCpv9C4agE",
        "outputId": "93af05fc-757c-446c-a295-749cba5eb638"
      },
      "outputs": [
        {
          "name": "stdout",
          "output_type": "stream",
          "text": [
            "Select mode (single/pvp/exit): single\n",
            "Enter your name: leoj\n",
            "Available characters:\n",
            "1: Kaeya\n",
            "2: Jean\n",
            "3: Diluc\n",
            "4: Klee\n",
            "Select your character (number): 4\n",
            "leoj has attacked Dvalin for 999 damage!\n",
            "Dvalin defeated! Total wins: 1\n",
            "`````````````````````````````````````````````\n",
            "Select mode (single/pvp/exit): exit\n"
          ]
        }
      ],
      "source": [
        "import random\n",
        "\n",
        "class Player:\n",
        "    def __init__(self, name, hp, dmg):\n",
        "        self.name = name\n",
        "        self.hp = hp\n",
        "        self.dmg = dmg\n",
        "        self.wins = 0\n",
        "\n",
        "    def attack(self, opponent):\n",
        "        opponent.hp -= self.dmg\n",
        "        print(f\"{self.name} has attacked {opponent.name} for {self.dmg} damage!\")\n",
        "\n",
        "    def is_alive(self):\n",
        "        return self.hp > 0\n",
        "\n",
        "class Boss(Player):\n",
        "    def __init__(self):\n",
        "        super().__init__(\"Monster\", 150, 30)\n",
        "\n",
        "class Game:\n",
        "    def __init__(self):\n",
        "        self.roles = {\n",
        "            1: ('Novice', (100, 35)),\n",
        "            2: ('Swordsman', (135, 30)),\n",
        "            3: ('Archer', (125, 35)),\n",
        "            4: ('Magician', (110, 40))\n",
        "        }\n",
        "\n",
        "    def start(self, mode):\n",
        "        if mode == 'single':\n",
        "            self.single_player()\n",
        "        elif mode == 'pvp':\n",
        "            self.player_vs_player_mode()\n",
        "        else:\n",
        "            print(\"Invalid mode selected.\")\n",
        "\n",
        "    def single_player(self):\n",
        "        name = input(\"Enter your name: \")\n",
        "        player = Player(name, *self.roles[1][1])\n",
        "        monster = Boss()\n",
        "\n",
        "        while True:\n",
        "            while player.is_alive() and monster.is_alive():\n",
        "                player.attack(monster)\n",
        "                if not monster.is_alive():\n",
        "                    player.wins += 1\n",
        "                    print(f\"{monster.name} defeated! Total wins: {player.wins}\")\n",
        "                    if player.wins >= 2:\n",
        "                        print(\"You can now select a new role!\")\n",
        "                        role = self.select_role(allow_new_roles=True)\n",
        "                        player = Player(name, *self.roles[role][1])\n",
        "                    monster = Boss()\n",
        "                    break\n",
        "\n",
        "                monster.attack(player)\n",
        "                if not player.is_alive():\n",
        "                    print(f\"{player.name} has been defeated! Game Over.\")\n",
        "                    return\n",
        "\n",
        "    def player_vs_player_mode(self):\n",
        "        name1 = input(\"Enter Player 1 name: \")\n",
        "        role1 = self.select_role()\n",
        "        player1 = Player(name1, *self.roles[role1][1])\n",
        "\n",
        "        name2 = input(\"Enter Player 2 name: \")\n",
        "        role2 = self.select_role()\n",
        "        player2 = Player(name2, *self.roles[role2][1])\n",
        "\n",
        "        while player1.is_alive() and player2.is_alive():\n",
        "            if random.choice([True, False]):\n",
        "                player1.attack(player2)\n",
        "                if not player2.is_alive():\n",
        "                    player1.wins += 1\n",
        "                    print(f\"{player1.name} wins! Total wins: {player1.wins}\")\n",
        "                    break\n",
        "\n",
        "                player2.attack(player1)\n",
        "                if not player1.is_alive():\n",
        "                    player2.wins += 1\n",
        "                    print(f\"{player2.name} wins! Total wins: {player2.wins}\")\n",
        "                    break\n",
        "            else:\n",
        "                player2.attack(player1)\n",
        "                if not player1.is_alive():\n",
        "                    player2.wins += 1\n",
        "                    print(f\"{player2.name} wins! Total wins: {player2.wins}\")\n",
        "                    break\n",
        "\n",
        "                player1.attack(player2)\n",
        "                if not player2.is_alive():\n",
        "                    player1.wins += 1\n",
        "                    print(f\"{player1.name} wins! Total wins: {player1.wins}\")\n",
        "                    break\n",
        "\n",
        "    def select_role(self, allow_new_roles=False):\n",
        "        print(\"Available characters:\")\n",
        "        for number, (name, _) in self.roles.items():\n",
        "            if allow_new_roles or name == 'Novice':\n",
        "                print(f\"{number}: {name}\")\n",
        "\n",
        "        selected_role = input(\"Select your character (number): \")\n",
        "        while not selected_role.isdigit() or int(selected_role) not in self.roles:\n",
        "            print(\"Invalid role. Please choose again.\")\n",
        "            selected_role = input(\"Select your character (number): \")\n",
        "\n",
        "        return int(selected_role)\n",
        "\n",
        "if __name__ == \"__main__\":\n",
        "    game = Game()\n",
        "    while True:\n",
        "        mode = input(\"Select mode (single/pvp/exit): \").lower()\n",
        "        if mode == 'exit':\n",
        "            break\n",
        "        game.start(mode)\n"
      ]
    }
  ]
}