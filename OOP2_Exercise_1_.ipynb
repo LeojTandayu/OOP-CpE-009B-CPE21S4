{
  "nbformat": 4,
  "nbformat_minor": 0,
  "metadata": {
    "colab": {
      "provenance": [],
      "authorship_tag": "ABX9TyMxMBFaJg2o6sbyaJm2lNEu",
      "include_colab_link": true
    },
    "kernelspec": {
      "name": "python3",
      "display_name": "Python 3"
    },
    "language_info": {
      "name": "python"
    }
  },
  "cells": [
    {
      "cell_type": "markdown",
      "metadata": {
        "id": "view-in-github",
        "colab_type": "text"
      },
      "source": [
        "<a href=\"https://colab.research.google.com/github/LeojTandayu/OOP-CpE-009B-CPE21S4/blob/main/OOP2_Exercise_1_.ipynb\" target=\"_parent\"><img src=\"https://colab.research.google.com/assets/colab-badge.svg\" alt=\"Open In Colab\"/></a>"
      ]
    },
    {
      "cell_type": "markdown",
      "source": [
        "# **Class**\n",
        "\n",
        "A class is a collection of object. These are data structures that the user defines.\n",
        "\n",
        "Syntax :\n",
        "\n",
        "class (class name):\n",
        "\n",
        "  class body"
      ],
      "metadata": {
        "id": "LIrOOVsUEdzT"
      }
    },
    {
      "cell_type": "code",
      "execution_count": null,
      "metadata": {
        "id": "NvXxQJN6A_P9"
      },
      "outputs": [],
      "source": [
        "class Car:\n",
        "  pass"
      ]
    },
    {
      "cell_type": "code",
      "source": [
        "#Class Constructor\n",
        "#Super Class\n",
        "class Person:\n",
        "  def __init__(self , name , age , birthdate):\n",
        "    self.name = name\n",
        "    self.age = age\n",
        "    self.birthdate = birthdate\n",
        "\n",
        "  def person_attribute(self):\n",
        "    return f\"My name is : {self.name}  and with an age of : {self.age} and birthday on : {self.birthdate}\"\n",
        "\n",
        "#Subclass\n",
        "class Teacher(Person):\n",
        "  pass\n",
        "\n",
        "class Student(Person):\n",
        "  pass\n",
        "\n",
        "\n",
        "#object instantation\n",
        "person = Person(\"Ana\" , 19 , \"January 3, 2005\")\n",
        "print(person.person_attribute())\n",
        "\n",
        "student = Student(\"Mark\" , 20 , \"April 7, 2004\")\n",
        "print(student.person_attribute())\n",
        "\n",
        "teacher = Teacher(\"Mam Sayo\" , 40 , \"June 24, 1983\")\n",
        "print(teacher.person_attribute())\n"
      ],
      "metadata": {
        "colab": {
          "base_uri": "https://localhost:8080/"
        },
        "id": "2ADw_Z_KFrV6",
        "outputId": "f0fae86a-3edd-4691-986d-8b990cc5101b"
      },
      "execution_count": null,
      "outputs": [
        {
          "output_type": "stream",
          "name": "stdout",
          "text": [
            "My name is : Ana  and with an age of : 19 and birthday on : January 3, 2005\n",
            "My name is : Mark  and with an age of : 20 and birthday on : April 7, 2004\n",
            "My name is : Mam Sayo  and with an age of : 40 and birthday on : June 24, 1983\n"
          ]
        }
      ]
    },
    {
      "cell_type": "code",
      "source": [],
      "metadata": {
        "id": "Vn8roi8YUty3"
      },
      "execution_count": null,
      "outputs": []
    },
    {
      "cell_type": "markdown",
      "source": [
        "# **Challenge 1**"
      ],
      "metadata": {
        "id": "z3MLHdOAUI3I"
      }
    },
    {
      "cell_type": "markdown",
      "source": [
        "Create a python program that has the following:\n",
        "\n",
        "1) Super class named as Shapes\n",
        "\n",
        "2)Subclasses : Rectangle , Square\n",
        "\n",
        "3)Methods : Perimitre() , Area()\n",
        "\n",
        "4)Object name : rectangle , square\n",
        "\n",
        "5) Inherits the attributes of superclass self.side = side"
      ],
      "metadata": {
        "id": "j2UiG-ZpUPfq"
      }
    },
    {
      "cell_type": "code",
      "source": [
        "# Super Class\n",
        "class Shapes:\n",
        "    def __init__(self, side, side2, side3):\n",
        "        self.side = side\n",
        "        self.side2 = side2\n",
        "        self.side3 = side3\n",
        "\n",
        "# Sub Class\n",
        "class Rectangle(Shapes):\n",
        "    pass\n",
        "\n",
        "    def perimeter(self):\n",
        "        return 2 * (self.side2 + self.side3)\n",
        "\n",
        "    def area(self):\n",
        "        return self.side2 * self.side3\n",
        "\n",
        "class Square(Shapes):\n",
        "    pass\n",
        "\n",
        "    def perimeter(self):\n",
        "        return self.side * 4\n",
        "\n",
        "    def area(self):\n",
        "        return self.side ** 2\n",
        "\n",
        "\n",
        "# Object Instantiation\n",
        "# Rectangle\n",
        "rectangle = Rectangle(0, 7, 5)\n",
        "print(f\"Rectangle Perimeter: {rectangle.perimeter()}\")\n",
        "print(f\"Rectangle Area: {rectangle.area()}\")\n",
        "\n",
        "# Square\n",
        "square = Square(3,0,0)\n",
        "print(f\"Square Perimeter: {square.perimeter()}\")\n",
        "print(f\"Square Area: {square.area()}\")"
      ],
      "metadata": {
        "colab": {
          "base_uri": "https://localhost:8080/"
        },
        "id": "tNSfueT8XckP",
        "outputId": "cc074c63-7538-471f-a8ca-a9f023da00ab"
      },
      "execution_count": null,
      "outputs": [
        {
          "output_type": "stream",
          "name": "stdout",
          "text": [
            "Rectangle Perimeter: 24\n",
            "Rectangle Area: 35\n",
            "Square Perimeter: 12\n",
            "Square Area: 9\n"
          ]
        }
      ]
    }
  ]
}